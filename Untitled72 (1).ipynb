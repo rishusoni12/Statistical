{
 "cells": [
  {
   "cell_type": "code",
   "execution_count": 3,
   "id": "a9254664-71b3-4e0f-8767-90df657b9bad",
   "metadata": {},
   "outputs": [
    {
     "data": {
      "text/html": [
       "<div>\n",
       "<style scoped>\n",
       "    .dataframe tbody tr th:only-of-type {\n",
       "        vertical-align: middle;\n",
       "    }\n",
       "\n",
       "    .dataframe tbody tr th {\n",
       "        vertical-align: top;\n",
       "    }\n",
       "\n",
       "    .dataframe thead th {\n",
       "        text-align: right;\n",
       "    }\n",
       "</style>\n",
       "<table border=\"1\" class=\"dataframe\">\n",
       "  <thead>\n",
       "    <tr style=\"text-align: right;\">\n",
       "      <th></th>\n",
       "      <th>Pregnancies</th>\n",
       "      <th>Glucose</th>\n",
       "      <th>BloodPressure</th>\n",
       "      <th>SkinThickness</th>\n",
       "      <th>Insulin</th>\n",
       "      <th>BMI</th>\n",
       "      <th>DiabetesPedigreeFunction</th>\n",
       "      <th>Age</th>\n",
       "      <th>Outcome</th>\n",
       "    </tr>\n",
       "  </thead>\n",
       "  <tbody>\n",
       "    <tr>\n",
       "      <th>0</th>\n",
       "      <td>6</td>\n",
       "      <td>148</td>\n",
       "      <td>72</td>\n",
       "      <td>35</td>\n",
       "      <td>0</td>\n",
       "      <td>33.6</td>\n",
       "      <td>0.627</td>\n",
       "      <td>50</td>\n",
       "      <td>1</td>\n",
       "    </tr>\n",
       "    <tr>\n",
       "      <th>1</th>\n",
       "      <td>1</td>\n",
       "      <td>85</td>\n",
       "      <td>66</td>\n",
       "      <td>29</td>\n",
       "      <td>0</td>\n",
       "      <td>26.6</td>\n",
       "      <td>0.351</td>\n",
       "      <td>31</td>\n",
       "      <td>0</td>\n",
       "    </tr>\n",
       "    <tr>\n",
       "      <th>2</th>\n",
       "      <td>8</td>\n",
       "      <td>183</td>\n",
       "      <td>64</td>\n",
       "      <td>0</td>\n",
       "      <td>0</td>\n",
       "      <td>23.3</td>\n",
       "      <td>0.672</td>\n",
       "      <td>32</td>\n",
       "      <td>1</td>\n",
       "    </tr>\n",
       "    <tr>\n",
       "      <th>3</th>\n",
       "      <td>1</td>\n",
       "      <td>89</td>\n",
       "      <td>66</td>\n",
       "      <td>23</td>\n",
       "      <td>94</td>\n",
       "      <td>28.1</td>\n",
       "      <td>0.167</td>\n",
       "      <td>21</td>\n",
       "      <td>0</td>\n",
       "    </tr>\n",
       "    <tr>\n",
       "      <th>4</th>\n",
       "      <td>0</td>\n",
       "      <td>137</td>\n",
       "      <td>40</td>\n",
       "      <td>35</td>\n",
       "      <td>168</td>\n",
       "      <td>43.1</td>\n",
       "      <td>2.288</td>\n",
       "      <td>33</td>\n",
       "      <td>1</td>\n",
       "    </tr>\n",
       "    <tr>\n",
       "      <th>...</th>\n",
       "      <td>...</td>\n",
       "      <td>...</td>\n",
       "      <td>...</td>\n",
       "      <td>...</td>\n",
       "      <td>...</td>\n",
       "      <td>...</td>\n",
       "      <td>...</td>\n",
       "      <td>...</td>\n",
       "      <td>...</td>\n",
       "    </tr>\n",
       "    <tr>\n",
       "      <th>763</th>\n",
       "      <td>10</td>\n",
       "      <td>101</td>\n",
       "      <td>76</td>\n",
       "      <td>48</td>\n",
       "      <td>180</td>\n",
       "      <td>32.9</td>\n",
       "      <td>0.171</td>\n",
       "      <td>63</td>\n",
       "      <td>0</td>\n",
       "    </tr>\n",
       "    <tr>\n",
       "      <th>764</th>\n",
       "      <td>2</td>\n",
       "      <td>122</td>\n",
       "      <td>70</td>\n",
       "      <td>27</td>\n",
       "      <td>0</td>\n",
       "      <td>36.8</td>\n",
       "      <td>0.340</td>\n",
       "      <td>27</td>\n",
       "      <td>0</td>\n",
       "    </tr>\n",
       "    <tr>\n",
       "      <th>765</th>\n",
       "      <td>5</td>\n",
       "      <td>121</td>\n",
       "      <td>72</td>\n",
       "      <td>23</td>\n",
       "      <td>112</td>\n",
       "      <td>26.2</td>\n",
       "      <td>0.245</td>\n",
       "      <td>30</td>\n",
       "      <td>0</td>\n",
       "    </tr>\n",
       "    <tr>\n",
       "      <th>766</th>\n",
       "      <td>1</td>\n",
       "      <td>126</td>\n",
       "      <td>60</td>\n",
       "      <td>0</td>\n",
       "      <td>0</td>\n",
       "      <td>30.1</td>\n",
       "      <td>0.349</td>\n",
       "      <td>47</td>\n",
       "      <td>1</td>\n",
       "    </tr>\n",
       "    <tr>\n",
       "      <th>767</th>\n",
       "      <td>1</td>\n",
       "      <td>93</td>\n",
       "      <td>70</td>\n",
       "      <td>31</td>\n",
       "      <td>0</td>\n",
       "      <td>30.4</td>\n",
       "      <td>0.315</td>\n",
       "      <td>23</td>\n",
       "      <td>0</td>\n",
       "    </tr>\n",
       "  </tbody>\n",
       "</table>\n",
       "<p>768 rows × 9 columns</p>\n",
       "</div>"
      ],
      "text/plain": [
       "     Pregnancies  Glucose  BloodPressure  SkinThickness  Insulin   BMI  \\\n",
       "0              6      148             72             35        0  33.6   \n",
       "1              1       85             66             29        0  26.6   \n",
       "2              8      183             64              0        0  23.3   \n",
       "3              1       89             66             23       94  28.1   \n",
       "4              0      137             40             35      168  43.1   \n",
       "..           ...      ...            ...            ...      ...   ...   \n",
       "763           10      101             76             48      180  32.9   \n",
       "764            2      122             70             27        0  36.8   \n",
       "765            5      121             72             23      112  26.2   \n",
       "766            1      126             60              0        0  30.1   \n",
       "767            1       93             70             31        0  30.4   \n",
       "\n",
       "     DiabetesPedigreeFunction  Age  Outcome  \n",
       "0                       0.627   50        1  \n",
       "1                       0.351   31        0  \n",
       "2                       0.672   32        1  \n",
       "3                       0.167   21        0  \n",
       "4                       2.288   33        1  \n",
       "..                        ...  ...      ...  \n",
       "763                     0.171   63        0  \n",
       "764                     0.340   27        0  \n",
       "765                     0.245   30        0  \n",
       "766                     0.349   47        1  \n",
       "767                     0.315   23        0  \n",
       "\n",
       "[768 rows x 9 columns]"
      ]
     },
     "execution_count": 3,
     "metadata": {},
     "output_type": "execute_result"
    }
   ],
   "source": [
    "import pandas as pd\n",
    "df = pd.read_csv(\"diabetes.csv\")\n",
    "df"
   ]
  },
  {
   "cell_type": "code",
   "execution_count": 1,
   "id": "35f3862c-67ac-48c2-8228-6d0d872c0a02",
   "metadata": {},
   "outputs": [],
   "source": [
    "\n",
    "from scipy.stats import pearsonr\n"
   ]
  },
  {
   "cell_type": "code",
   "execution_count": 21,
   "id": "673a583b-6dc9-4127-b1f0-f96b5db6d6fc",
   "metadata": {},
   "outputs": [
    {
     "name": "stdout",
     "output_type": "stream",
     "text": [
      "Pearsonr correlation Test 0.03356131243480553\n",
      "correlation Coeffcient 0.3529797336668882\n",
      "data is not correlated Fail to reject  H0\n"
     ]
    }
   ],
   "source": [
    "x = df[\"DiabetesPedigreeFunction\"]  #x \n",
    "y = df[\"Age\"]  #y\n",
    "r, p = pearsonr(x,y)\n",
    "print(\"Pearsonr correlation Test\",r)\n",
    "print(\"correlation Coeffcient\",p)\n",
    "\n",
    "if p>0.05:\n",
    "    print(\"data is not correlated Fail to reject  H0\")\n",
    "   \n",
    "else:\n",
    "    print(\"data is correlated  reject H0\")\n",
    "  "
   ]
  },
  {
   "cell_type": "code",
   "execution_count": 15,
   "id": "4cd4767a-1d52-4ec1-a119-9286b8e719f5",
   "metadata": {},
   "outputs": [
    {
     "data": {
      "text/plain": [
       "35.297973366688815"
      ]
     },
     "execution_count": 15,
     "metadata": {},
     "output_type": "execute_result"
    }
   ],
   "source": [
    "0.3529797336668882*100"
   ]
  },
  {
   "cell_type": "code",
   "execution_count": 29,
   "id": "08a17364-5dc7-4a53-afe6-c97f5f0ddbdc",
   "metadata": {},
   "outputs": [
    {
     "data": {
      "text/plain": [
       "768"
      ]
     },
     "execution_count": 29,
     "metadata": {},
     "output_type": "execute_result"
    }
   ],
   "source": [
    "#slope = nExy-ExEy/nEx^2 - (Ex)2\n",
    "n = len(x)\n",
    "n "
   ]
  },
  {
   "cell_type": "code",
   "execution_count": 51,
   "id": "444c9fd1-347c-43df-b60c-f5c78da426e2",
   "metadata": {},
   "outputs": [
    {
     "data": {
      "text/plain": [
       "12146.832"
      ]
     },
     "execution_count": 51,
     "metadata": {},
     "output_type": "execute_result"
    }
   ],
   "source": [
    "#Exy\n",
    "xy = (df[\"DiabetesPedigreeFunction\"] * df[\"Age\"]).sum()\n",
    "xy"
   ]
  },
  {
   "cell_type": "code",
   "execution_count": 47,
   "id": "492821b6-b12b-4e49-94cb-f3b85164a074",
   "metadata": {},
   "outputs": [
    {
     "data": {
      "text/plain": [
       "362.40099999999995"
      ]
     },
     "execution_count": 47,
     "metadata": {},
     "output_type": "execute_result"
    }
   ],
   "source": [
    "x = df[\"DiabetesPedigreeFunction\"].sum()\n",
    "x"
   ]
  },
  {
   "cell_type": "code",
   "execution_count": 53,
   "id": "a0264c17-df4e-409a-8f01-8750449449e0",
   "metadata": {},
   "outputs": [
    {
     "data": {
      "text/plain": [
       "25529"
      ]
     },
     "execution_count": 53,
     "metadata": {},
     "output_type": "execute_result"
    }
   ],
   "source": [
    "y = df[\"Age\"].sum()\n",
    "y"
   ]
  },
  {
   "cell_type": "code",
   "execution_count": 71,
   "id": "69dc94fe-12de-4503-852c-7be4a8c59563",
   "metadata": {},
   "outputs": [
    {
     "data": {
      "text/plain": [
       "255.208659"
      ]
     },
     "execution_count": 71,
     "metadata": {},
     "output_type": "execute_result"
    }
   ],
   "source": [
    "#(Ex^2)\n",
    "a = (df[\"DiabetesPedigreeFunction\"]**2).sum()\n",
    "a\n",
    "\n"
   ]
  },
  {
   "cell_type": "code",
   "execution_count": 65,
   "id": "03e06d7a-9b45-4a3c-bb45-ff7740d9b5e9",
   "metadata": {},
   "outputs": [
    {
     "data": {
      "text/plain": [
       "131334.48480099996"
      ]
     },
     "execution_count": 65,
     "metadata": {},
     "output_type": "execute_result"
    }
   ],
   "source": [
    "#(Ex)2\n",
    "b = (df[\"DiabetesPedigreeFunction\"].sum())**2\n",
    "b"
   ]
  },
  {
   "cell_type": "code",
   "execution_count": 67,
   "id": "425c4143-64c5-4412-9798-e7a2a51adb79",
   "metadata": {},
   "outputs": [
    {
     "data": {
      "text/plain": [
       "77031.847000001"
      ]
     },
     "execution_count": 67,
     "metadata": {},
     "output_type": "execute_result"
    }
   ],
   "source": [
    "upper = n*xy-x*y\n",
    "upper"
   ]
  },
  {
   "cell_type": "code",
   "execution_count": 73,
   "id": "501dfc0f-14fd-4f2b-baf2-c9b6eb4b3426",
   "metadata": {},
   "outputs": [
    {
     "data": {
      "text/plain": [
       "64665.765311000054"
      ]
     },
     "execution_count": 73,
     "metadata": {},
     "output_type": "execute_result"
    }
   ],
   "source": [
    "lower = n*a-b\n",
    "lower"
   ]
  },
  {
   "cell_type": "code",
   "execution_count": 75,
   "id": "7ee82949-aca2-4117-954f-749ab017c141",
   "metadata": {},
   "outputs": [
    {
     "data": {
      "text/plain": [
       "1.1912307328232825"
      ]
     },
     "execution_count": 75,
     "metadata": {},
     "output_type": "execute_result"
    }
   ],
   "source": [
    "slope = upper/lower\n",
    "slope"
   ]
  },
  {
   "cell_type": "code",
   "execution_count": null,
   "id": "e11de05b-a9f4-488b-a86f-ddfe9b6197ae",
   "metadata": {},
   "outputs": [],
   "source": [
    "intercepter Ey - slope*Ex/n\n"
   ]
  },
  {
   "cell_type": "code",
   "execution_count": 77,
   "id": "c0c0e26a-951e-4d2d-8165-5ae6ab1a7caf",
   "metadata": {},
   "outputs": [
    {
     "data": {
      "text/plain": [
       "25528.437886446867"
      ]
     },
     "execution_count": 77,
     "metadata": {},
     "output_type": "execute_result"
    }
   ],
   "source": [
    "intercept = y-slope*x/n\n",
    "intercept"
   ]
  },
  {
   "cell_type": "code",
   "execution_count": 79,
   "id": "2d5add39-7912-4c9c-8c99-811e1c2b15f8",
   "metadata": {},
   "outputs": [
    {
     "data": {
      "text/plain": [
       "25960.14109525276"
      ]
     },
     "execution_count": 79,
     "metadata": {},
     "output_type": "execute_result"
    }
   ],
   "source": [
    "#y chahiye\n",
    "\n",
    "y = slope*x+intercept\n",
    "y"
   ]
  },
  {
   "cell_type": "code",
   "execution_count": 89,
   "id": "e8cda7bd-3897-4de3-ac7e-29182c4b99e6",
   "metadata": {},
   "outputs": [
    {
     "data": {
      "image/png": "[encoded data removed]",
      "text/plain": [
       "<Figure size 640x480 with 1 Axes>"
      ]
     },
     "metadata": {},
     "output_type": "display_data"
    },
    {
     "name": "stdout",
     "output_type": "stream",
     "text": [
      "Data is positively skewed (right skewed). 0.28412157697735596\n"
     ]
    }
   ],
   "source": [
    "import pandas as pd\n",
    "import seaborn as sns\n",
    "import matplotlib.pyplot as plt\n",
    "\n",
    "# Assuming you have a DataFrame 'df' with a column 'sepal_length'\n",
    "# Example DataFrame, replace it with your own\n",
    "df = pd.DataFrame({\n",
    "    'sepal_length': [5.1, 4.9, 4.7, 4.6, 5.0, 5.4, 5.5, 6.0, 6.1, 6.3, 6.5]\n",
    "})\n",
    "\n",
    "# Calculate skewness\n",
    "skew_value = df[\"sepal_length\"].skew()\n",
    "\n",
    "# Plotting the distribution (Histogram & KDE plot)\n",
    "sns.histplot(df[\"sepal_length\"], kde=True)\n",
    "plt.title(f\"Skewness: {skew_value:.2f}\")\n",
    "plt.xlabel(\"Sepal Length\")\n",
    "plt.ylabel(\"Frequency\")\n",
    "plt.show()\n",
    "\n",
    "# Interpreting skewness\n",
    "if skew_value == 0:\n",
    "    print(\"Data is normally distributed.\")\n",
    "elif skew_value < 0:\n",
    "    print(\"Data is negatively skewed (left skewed).\",skew_value)\n",
    "else:\n",
    "    print(\"Data is positively skewed (right skewed).\",skew_value)\n"
   ]
  },
  {
   "cell_type": "code",
   "execution_count": 99,
   "id": "1e927c64-470f-4d8c-8910-9fec0e60b3c9",
   "metadata": {},
   "outputs": [
    {
     "data": {
      "text/plain": [
       "0.28412157697735596"
      ]
     },
     "execution_count": 99,
     "metadata": {},
     "output_type": "execute_result"
    }
   ],
   "source": []
  },
  {
   "cell_type": "code",
   "execution_count": null,
   "id": "a7688b2d-2364-42e0-8f10-c15a14c1effe",
   "metadata": {},
   "outputs": [],
   "source": []
  }
 ],
 "metadata": {
  "kernelspec": {
   "display_name": "Python 3 (ipykernel)",
   "language": "python",
   "name": "python3"
  },
  "language_info": {
   "codemirror_mode": {
    "name": "ipython",
    "version": 3
   },
   "file_extension": ".py",
   "mimetype": "text/x-python",
   "name": "python",
   "nbconvert_exporter": "python",
   "pygments_lexer": "ipython3",
   "version": "3.12.4"
  }
 },
 "nbformat": 4,
 "nbformat_minor": 5
}
