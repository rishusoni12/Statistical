{
 "cells": [
  {
   "cell_type": "code",
   "execution_count": 7,
   "id": "11410aa7-db69-4a96-84e6-a0323960688a",
   "metadata": {},
   "outputs": [],
   "source": [
    "import pandas as pd\n",
    "from scipy.stats import shapiro"
   ]
  },
  {
   "cell_type": "code",
   "execution_count": 9,
   "id": "936d2fdc-7da5-4990-88c5-3495378d3c6f",
   "metadata": {},
   "outputs": [
    {
     "data": {
      "text/html": [
       "<div>\n",
       "<style scoped>\n",
       "    .dataframe tbody tr th:only-of-type {\n",
       "        vertical-align: middle;\n",
       "    }\n",
       "\n",
       "    .dataframe tbody tr th {\n",
       "        vertical-align: top;\n",
       "    }\n",
       "\n",
       "    .dataframe thead th {\n",
       "        text-align: right;\n",
       "    }\n",
       "</style>\n",
       "<table border=\"1\" class=\"dataframe\">\n",
       "  <thead>\n",
       "    <tr style=\"text-align: right;\">\n",
       "      <th></th>\n",
       "      <th>Pregnancies</th>\n",
       "      <th>Glucose</th>\n",
       "      <th>BloodPressure</th>\n",
       "      <th>SkinThickness</th>\n",
       "      <th>Insulin</th>\n",
       "      <th>BMI</th>\n",
       "      <th>DiabetesPedigreeFunction</th>\n",
       "      <th>Age</th>\n",
       "      <th>Outcome</th>\n",
       "    </tr>\n",
       "  </thead>\n",
       "  <tbody>\n",
       "    <tr>\n",
       "      <th>0</th>\n",
       "      <td>6</td>\n",
       "      <td>148</td>\n",
       "      <td>72</td>\n",
       "      <td>35</td>\n",
       "      <td>0</td>\n",
       "      <td>33.6</td>\n",
       "      <td>0.627</td>\n",
       "      <td>50</td>\n",
       "      <td>1</td>\n",
       "    </tr>\n",
       "    <tr>\n",
       "      <th>1</th>\n",
       "      <td>1</td>\n",
       "      <td>85</td>\n",
       "      <td>66</td>\n",
       "      <td>29</td>\n",
       "      <td>0</td>\n",
       "      <td>26.6</td>\n",
       "      <td>0.351</td>\n",
       "      <td>31</td>\n",
       "      <td>0</td>\n",
       "    </tr>\n",
       "    <tr>\n",
       "      <th>2</th>\n",
       "      <td>8</td>\n",
       "      <td>183</td>\n",
       "      <td>64</td>\n",
       "      <td>0</td>\n",
       "      <td>0</td>\n",
       "      <td>23.3</td>\n",
       "      <td>0.672</td>\n",
       "      <td>32</td>\n",
       "      <td>1</td>\n",
       "    </tr>\n",
       "    <tr>\n",
       "      <th>3</th>\n",
       "      <td>1</td>\n",
       "      <td>89</td>\n",
       "      <td>66</td>\n",
       "      <td>23</td>\n",
       "      <td>94</td>\n",
       "      <td>28.1</td>\n",
       "      <td>0.167</td>\n",
       "      <td>21</td>\n",
       "      <td>0</td>\n",
       "    </tr>\n",
       "    <tr>\n",
       "      <th>4</th>\n",
       "      <td>0</td>\n",
       "      <td>137</td>\n",
       "      <td>40</td>\n",
       "      <td>35</td>\n",
       "      <td>168</td>\n",
       "      <td>43.1</td>\n",
       "      <td>2.288</td>\n",
       "      <td>33</td>\n",
       "      <td>1</td>\n",
       "    </tr>\n",
       "    <tr>\n",
       "      <th>...</th>\n",
       "      <td>...</td>\n",
       "      <td>...</td>\n",
       "      <td>...</td>\n",
       "      <td>...</td>\n",
       "      <td>...</td>\n",
       "      <td>...</td>\n",
       "      <td>...</td>\n",
       "      <td>...</td>\n",
       "      <td>...</td>\n",
       "    </tr>\n",
       "    <tr>\n",
       "      <th>763</th>\n",
       "      <td>10</td>\n",
       "      <td>101</td>\n",
       "      <td>76</td>\n",
       "      <td>48</td>\n",
       "      <td>180</td>\n",
       "      <td>32.9</td>\n",
       "      <td>0.171</td>\n",
       "      <td>63</td>\n",
       "      <td>0</td>\n",
       "    </tr>\n",
       "    <tr>\n",
       "      <th>764</th>\n",
       "      <td>2</td>\n",
       "      <td>122</td>\n",
       "      <td>70</td>\n",
       "      <td>27</td>\n",
       "      <td>0</td>\n",
       "      <td>36.8</td>\n",
       "      <td>0.340</td>\n",
       "      <td>27</td>\n",
       "      <td>0</td>\n",
       "    </tr>\n",
       "    <tr>\n",
       "      <th>765</th>\n",
       "      <td>5</td>\n",
       "      <td>121</td>\n",
       "      <td>72</td>\n",
       "      <td>23</td>\n",
       "      <td>112</td>\n",
       "      <td>26.2</td>\n",
       "      <td>0.245</td>\n",
       "      <td>30</td>\n",
       "      <td>0</td>\n",
       "    </tr>\n",
       "    <tr>\n",
       "      <th>766</th>\n",
       "      <td>1</td>\n",
       "      <td>126</td>\n",
       "      <td>60</td>\n",
       "      <td>0</td>\n",
       "      <td>0</td>\n",
       "      <td>30.1</td>\n",
       "      <td>0.349</td>\n",
       "      <td>47</td>\n",
       "      <td>1</td>\n",
       "    </tr>\n",
       "    <tr>\n",
       "      <th>767</th>\n",
       "      <td>1</td>\n",
       "      <td>93</td>\n",
       "      <td>70</td>\n",
       "      <td>31</td>\n",
       "      <td>0</td>\n",
       "      <td>30.4</td>\n",
       "      <td>0.315</td>\n",
       "      <td>23</td>\n",
       "      <td>0</td>\n",
       "    </tr>\n",
       "  </tbody>\n",
       "</table>\n",
       "<p>768 rows × 9 columns</p>\n",
       "</div>"
      ],
      "text/plain": [
       "     Pregnancies  Glucose  BloodPressure  SkinThickness  Insulin   BMI  \\\n",
       "0              6      148             72             35        0  33.6   \n",
       "1              1       85             66             29        0  26.6   \n",
       "2              8      183             64              0        0  23.3   \n",
       "3              1       89             66             23       94  28.1   \n",
       "4              0      137             40             35      168  43.1   \n",
       "..           ...      ...            ...            ...      ...   ...   \n",
       "763           10      101             76             48      180  32.9   \n",
       "764            2      122             70             27        0  36.8   \n",
       "765            5      121             72             23      112  26.2   \n",
       "766            1      126             60              0        0  30.1   \n",
       "767            1       93             70             31        0  30.4   \n",
       "\n",
       "     DiabetesPedigreeFunction  Age  Outcome  \n",
       "0                       0.627   50        1  \n",
       "1                       0.351   31        0  \n",
       "2                       0.672   32        1  \n",
       "3                       0.167   21        0  \n",
       "4                       2.288   33        1  \n",
       "..                        ...  ...      ...  \n",
       "763                     0.171   63        0  \n",
       "764                     0.340   27        0  \n",
       "765                     0.245   30        0  \n",
       "766                     0.349   47        1  \n",
       "767                     0.315   23        0  \n",
       "\n",
       "[768 rows x 9 columns]"
      ]
     },
     "execution_count": 9,
     "metadata": {},
     "output_type": "execute_result"
    }
   ],
   "source": [
    "df = pd.read_csv(\"diabetes.csv\")\n",
    "df"
   ]
  },
  {
   "cell_type": "code",
   "execution_count": 5,
   "id": "f8eeb2c3-7f89-4da1-bb72-7f2ea0219576",
   "metadata": {},
   "outputs": [
    {
     "name": "stdout",
     "output_type": "stream",
     "text": [
      "0.9042812714701655\n",
      "P Value: 1.6092572358874225e-21\n",
      "data is not normal  distributed\n"
     ]
    }
   ],
   "source": [
    "stats, p = shapiro(df[\"Pregnancies\"])\n",
    "print(stats)\n",
    "print(\"P Value:\", p)\n",
    "\n",
    "if p>0.05:\n",
    "    print(\"data is normal distributed\")\n",
    "else:\n",
    "    print(\"data is not normal  distributed\")"
   ]
  },
  {
   "cell_type": "code",
   "execution_count": 7,
   "id": "1f2ef225-db3b-44a6-a153-3f03b661cce3",
   "metadata": {},
   "outputs": [
    {
     "name": "stdout",
     "output_type": "stream",
     "text": [
      "0.9701038379391942\n",
      "P Value: 1.9863474999979633e-11\n",
      "data is not normal  distributed\n"
     ]
    }
   ],
   "source": [
    "stats, p = shapiro(df[\"Glucose\"])\n",
    "print(stats)\n",
    "print(\"P Value:\", p)\n",
    "\n",
    "if p>0.05:\n",
    "    print(\"data is normal distributed\")\n",
    "else:\n",
    "    print(\"data is not normal  distributed\")"
   ]
  },
  {
   "cell_type": "code",
   "execution_count": 9,
   "id": "21bc9c79-e526-4bb8-9ce9-0536b30f9991",
   "metadata": {},
   "outputs": [
    {
     "name": "stdout",
     "output_type": "stream",
     "text": [
      "0.8189219237862853\n",
      "P Value: 1.5841623290215717e-28\n",
      "data is not normal  distributed\n"
     ]
    }
   ],
   "source": [
    "stats, p = shapiro(df[\"BloodPressure\"])\n",
    "print(stats)\n",
    "print(\"P Value:\", p)\n",
    "\n",
    "if p>0.05:\n",
    "    print(\"data is normal distributed\")\n",
    "else:\n",
    "    print(\"data is not normal  distributed\")"
   ]
  },
  {
   "cell_type": "code",
   "execution_count": 11,
   "id": "c966e862-7351-48f6-b28f-e795046a6bf6",
   "metadata": {},
   "outputs": [
    {
     "name": "stdout",
     "output_type": "stream",
     "text": [
      "0.9046276684527169\n",
      "P Value: 1.751754164091415e-21\n",
      "data is not normal  distributed\n"
     ]
    }
   ],
   "source": [
    "stats, p = shapiro(df[\"SkinThickness\"])\n",
    "print(stats)\n",
    "print(\"P Value:\", p)\n",
    "\n",
    "if p>0.05:\n",
    "    print(\"data is normal distributed\")\n",
    "else:\n",
    "    print(\"data is not normal  distributed\")"
   ]
  },
  {
   "cell_type": "code",
   "execution_count": 13,
   "id": "88ca259a-c9fe-4bb0-bcb3-98496308d089",
   "metadata": {},
   "outputs": [
    {
     "name": "stdout",
     "output_type": "stream",
     "text": [
      "0.7220197296631021\n",
      "P Value: 7.914331939766787e-34\n",
      "data is not normal  distributed\n"
     ]
    }
   ],
   "source": [
    "stats, p = shapiro(df[\"Insulin\"])\n",
    "print(stats)\n",
    "print(\"P Value:\", p)\n",
    "\n",
    "if p>0.05:\n",
    "    print(\"data is normal distributed\")\n",
    "else:\n",
    "    print(\"data is not normal  distributed\")"
   ]
  },
  {
   "cell_type": "code",
   "execution_count": 15,
   "id": "4d38f49d-2602-4019-a86e-555a74cdd5bf",
   "metadata": {},
   "outputs": [
    {
     "name": "stdout",
     "output_type": "stream",
     "text": [
      "0.9499902687524108\n",
      "P Value: 1.8416516138516335e-15\n",
      "data is not normal  distributed\n"
     ]
    }
   ],
   "source": [
    "stats, p = shapiro(df[\"BMI\"])\n",
    "print(stats)\n",
    "print(\"P Value:\", p)\n",
    "\n",
    "if p>0.05:\n",
    "    print(\"data is normal distributed\")\n",
    "else:\n",
    "    print(\"data is not normal  distributed\")"
   ]
  },
  {
   "cell_type": "code",
   "execution_count": 17,
   "id": "8c3cc8db-e257-4c38-a2bd-38d095974366",
   "metadata": {},
   "outputs": [
    {
     "name": "stdout",
     "output_type": "stream",
     "text": [
      "0.8365181321396535\n",
      "P Value: 2.477505530854268e-27\n",
      "data is not normal  distributed\n"
     ]
    }
   ],
   "source": [
    "stats, p = shapiro(df[\"DiabetesPedigreeFunction\"])\n",
    "print(stats)\n",
    "print(\"P Value:\", p)\n",
    "\n",
    "if p>0.05:\n",
    "    print(\"data is normal distributed\")\n",
    "else:\n",
    "    print(\"data is not normal  distributed\")"
   ]
  },
  {
   "cell_type": "code",
   "execution_count": 19,
   "id": "299635ae-9823-4a4b-98d5-de85b446340a",
   "metadata": {},
   "outputs": [
    {
     "name": "stdout",
     "output_type": "stream",
     "text": [
      "0.8747668643940426\n",
      "P Value: 2.4022741290400888e-24\n",
      "data is not normal  distributed\n"
     ]
    }
   ],
   "source": [
    "stats, p = shapiro(df[\"Age\"])\n",
    "print(stats)\n",
    "print(\"P Value:\", p)\n",
    "\n",
    "if p>0.05:\n",
    "    print(\"data is normal distributed\")\n",
    "else:\n",
    "    print(\"data is not normal  distributed\")"
   ]
  },
  {
   "cell_type": "code",
   "execution_count": 23,
   "id": "e904462c-b5ae-4511-8811-9432fef5e825",
   "metadata": {},
   "outputs": [
    {
     "name": "stdout",
     "output_type": "stream",
     "text": [
      "0.6025138190827578\n",
      "P Value: 1.2926899738528582e-38\n",
      "data is not normal  distributed\n"
     ]
    }
   ],
   "source": [
    "stats, p = shapiro(df[\"Outcome\"])\n",
    "print(stats)\n",
    "print(\"P Value:\", p)\n",
    "\n",
    "if p>0.05:\n",
    "    print(\"data is normal distributed\")\n",
    "else:\n",
    "    print(\"data is not normal  distributed\")"
   ]
  },
  {
   "cell_type": "code",
   "execution_count": 13,
   "id": "7ab8307b-c02a-4029-9d9e-9b714dd04c6f",
   "metadata": {},
   "outputs": [
    {
     "name": "stdout",
     "output_type": "stream",
     "text": [
      "Pearson correlation Test: -0.033522672962613104\n",
      "Correlation coefficient: 0.35353460198769926\n",
      "The data is likely not coorelated (fail to reject H0)\n"
     ]
    }
   ],
   "source": [
    "from scipy.stats import pearsonr\n",
    "x = df[\"DiabetesPedigreeFunction\"]\n",
    "y = df[\"Pregnancies\"]\n",
    "r, p = pearsonr(x, y)\n",
    "#Pearsonr Correlation\n",
    "print(\"Pearson correlation Test:\",r)\n",
    "print(\"Correlation coefficient:\", p)\n",
    "\n",
    "#intercepter\n",
    "if p>0.05:\n",
    "    print(\"The data is likely not coorelated (fail to reject H0)\")  # it is h0 hai\n",
    "\n",
    "else:       \n",
    "    print(\"The data is coorelated (reject  H0)\")"
   ]
  },
  {
   "cell_type": "code",
   "execution_count": 33,
   "id": "0522757a-28cb-49e6-86af-3b7ac9525f3e",
   "metadata": {},
   "outputs": [
    {
     "name": "stdout",
     "output_type": "stream",
     "text": [
      "Pearson correlation Test: 0.1373372998283707\n",
      "Correlation coefficient: 0.00013458781437157466\n",
      "The data is coorelated (reject  H0)\n"
     ]
    }
   ],
   "source": [
    "x = df[\"DiabetesPedigreeFunction\"]\n",
    "y = df[\"Glucose\"]\n",
    "r, p = pearsonr(x, y)\n",
    "#Pearsonr Correlation\n",
    "print(\"Pearson correlation Test:\",r)\n",
    "print(\"Correlation coefficient:\", p)\n",
    "\n",
    "#intercepter\n",
    "if p>0.05:\n",
    "    print(\"The data is likely not coorelated (fail to reject H0)\")  # it is h0 hai\n",
    "\n",
    "else:       \n",
    "    print(\"The data is coorelated (reject  H0)\")"
   ]
  },
  {
   "cell_type": "code",
   "execution_count": 35,
   "id": "ab69d852-477d-4f28-ac93-01a294038624",
   "metadata": {},
   "outputs": [
    {
     "name": "stdout",
     "output_type": "stream",
     "text": [
      "Pearson correlation Test: 0.041264947930098564\n",
      "Correlation coefficient: 0.2533743720192343\n",
      "The data is likely not coorelated (fail to reject H0)\n"
     ]
    }
   ],
   "source": [
    "x = df[\"DiabetesPedigreeFunction\"]\n",
    "y = df[\"BloodPressure\"]\n",
    "r, p = pearsonr(x, y)\n",
    "#Pearsonr Correlation\n",
    "print(\"Pearson correlation Test:\",r)\n",
    "print(\"Correlation coefficient:\", p)\n",
    "\n",
    "#intercepter\n",
    "if p>0.05:\n",
    "    print(\"The data is likely not coorelated (fail to reject H0)\")  # it is h0 hai\n",
    "\n",
    "else:       \n",
    "    print(\"The data is coorelated (reject  H0)\")"
   ]
  },
  {
   "cell_type": "code",
   "execution_count": 15,
   "id": "dad5fcea-525f-4d68-bf57-c639d2fd08d3",
   "metadata": {},
   "outputs": [
    {
     "name": "stdout",
     "output_type": "stream",
     "text": [
      "Pearson correlation Test: 0.18392757295416323\n",
      "p_value: 2.8561794700267096e-07\n",
      "The data is coorelated (reject  H0)\n"
     ]
    }
   ],
   "source": [
    "x = df[\"DiabetesPedigreeFunction\"]\n",
    "y = df[\"SkinThickness\"]\n",
    "r, p = pearsonr(x, y)\n",
    "#Pearsonr Correlation\n",
    "print(\"Pearson correlation Test:\",r)\n",
    "print(\"p_value:\", p)\n",
    "\n",
    "#intercepter\n",
    "if p>0.05:\n",
    "    print(\"The data is likely not coorelated (fail to reject H0)\")  # it is h0 hai\n",
    "\n",
    "else:       \n",
    "    print(\"The data is coorelated (reject  H0)\")"
   ]
  },
  {
   "cell_type": "code",
   "execution_count": 39,
   "id": "dadbd470-bab8-46ce-857c-9c73392c7f20",
   "metadata": {},
   "outputs": [
    {
     "name": "stdout",
     "output_type": "stream",
     "text": [
      "Pearson correlation Test: 0.18507092916809909\n",
      "Correlation coefficient: 2.4022640739424854e-07\n",
      "The data is coorelated (reject  H0)\n"
     ]
    }
   ],
   "source": [
    "x = df[\"DiabetesPedigreeFunction\"]\n",
    "y = df[\"Insulin\"]\n",
    "r, p = pearsonr(x, y)\n",
    "#Pearsonr Correlation\n",
    "print(\"Pearson correlation Test:\",r)\n",
    "print(\"Correlation coefficient:\", p)\n",
    "\n",
    "#intercepter\n",
    "if p>0.05:\n",
    "    print(\"The data is likely not coorelated (fail to reject H0)\")  # it is h0 hai\n",
    "\n",
    "else:       \n",
    "    print(\"The data is coorelated (reject  H0)\")"
   ]
  },
  {
   "cell_type": "code",
   "execution_count": 41,
   "id": "5dbdbece-5aa1-4855-87e5-e9643ca851e9",
   "metadata": {},
   "outputs": [
    {
     "name": "stdout",
     "output_type": "stream",
     "text": [
      "Pearson correlation Test: 0.14064695254510517\n",
      "Correlation coefficient: 9.197970126957359e-05\n",
      "The data is coorelated (reject  H0)\n"
     ]
    }
   ],
   "source": [
    "x = df[\"DiabetesPedigreeFunction\"]\n",
    "y = df[\"BMI\"]\n",
    "r, p = pearsonr(x, y)\n",
    "#Pearsonr Correlation\n",
    "print(\"Pearson correlation Test:\",r)\n",
    "print(\"Correlation coefficient:\", p)\n",
    "\n",
    "#intercepter\n",
    "if p>0.05:\n",
    "    print(\"The data is likely not coorelated (fail to reject H0)\")  # it is h0 hai\n",
    "\n",
    "else:       \n",
    "    print(\"The data is coorelated (reject  H0)\")"
   ]
  },
  {
   "cell_type": "code",
   "execution_count": 43,
   "id": "dc974cd5-1437-4da2-90be-c74ea24ae099",
   "metadata": {},
   "outputs": [
    {
     "name": "stdout",
     "output_type": "stream",
     "text": [
      "Pearson correlation Test: 0.03356131243480553\n",
      "Correlation coefficient: 0.3529797336668882\n",
      "The data is likely not coorelated (fail to reject H0)\n"
     ]
    }
   ],
   "source": [
    "x = df[\"DiabetesPedigreeFunction\"]\n",
    "y = df[\"Age\"]\n",
    "r, p = pearsonr(x, y)\n",
    "#Pearsonr Correlation\n",
    "print(\"Pearson correlation Test:\",r)\n",
    "print(\"Correlation coefficient:\", p)\n",
    "\n",
    "#intercepter\n",
    "if p>0.05:\n",
    "    print(\"The data is likely not coorelated (fail to reject H0)\")  # it is h0 hai\n",
    "\n",
    "else:       \n",
    "    print(\"The data is coorelated (reject  H0)\")"
   ]
  },
  {
   "cell_type": "code",
   "execution_count": 45,
   "id": "12d375fe-475e-4550-953e-86133582cccc",
   "metadata": {},
   "outputs": [
    {
     "name": "stdout",
     "output_type": "stream",
     "text": [
      "Pearson correlation Test: 0.1738440656529601\n",
      "Correlation coefficient: 1.2546070101487771e-06\n",
      "The data is coorelated (reject  H0)\n"
     ]
    }
   ],
   "source": [
    "x = df[\"DiabetesPedigreeFunction\"]\n",
    "y = df[\"Outcome\"]\n",
    "r, p = pearsonr(x, y)\n",
    "#Pearsonr Correlation\n",
    "print(\"Pearson correlation Test:\",r)\n",
    "print(\"Correlation coefficient:\", p)\n",
    "\n",
    "#intercepter\n",
    "if p>0.05:\n",
    "    print(\"The data is likely not coorelated (fail to reject H0)\")  # it is h0 hai\n",
    "\n",
    "else:       \n",
    "    print(\"The data is coorelated (reject  H0)\")"
   ]
  },
  {
   "cell_type": "raw",
   "id": "ebd601fe-f379-4bb1-8153-a9a087952a3c",
   "metadata": {},
   "source": [
    "correlation is highest bmi"
   ]
  },
  {
   "cell_type": "code",
   "execution_count": 9,
   "id": "c470711a-1493-4335-bae6-7fb4a6c7735d",
   "metadata": {},
   "outputs": [
    {
     "data": {
      "text/plain": [
       "34339.555"
      ]
     },
     "execution_count": 9,
     "metadata": {},
     "output_type": "execute_result"
    }
   ],
   "source": [
    "#Slope\n",
    "#Exy\n",
    "xy = (df[\"DiabetesPedigreeFunction\"] * df[\"Insulin\"]).sum()\n",
    "xy\n"
   ]
  },
  {
   "cell_type": "code",
   "execution_count": 11,
   "id": "c307613f-7779-4a67-845a-28d99e31aa72",
   "metadata": {},
   "outputs": [
    {
     "data": {
      "text/plain": [
       "362.40099999999995"
      ]
     },
     "execution_count": 11,
     "metadata": {},
     "output_type": "execute_result"
    }
   ],
   "source": [
    "#Ex\n",
    "x = df[\"DiabetesPedigreeFunction\"].sum()\n",
    "x"
   ]
  },
  {
   "cell_type": "code",
   "execution_count": 13,
   "id": "3dffdab3-aee5-4463-aa32-beb743ceb045",
   "metadata": {},
   "outputs": [
    {
     "data": {
      "text/plain": [
       "61286"
      ]
     },
     "execution_count": 13,
     "metadata": {},
     "output_type": "execute_result"
    }
   ],
   "source": [
    "#Ey\n",
    "y = df[\"Insulin\"].sum()\n",
    "y"
   ]
  },
  {
   "cell_type": "code",
   "execution_count": 23,
   "id": "0f119942-8299-45cd-99f9-03027fc91cae",
   "metadata": {},
   "outputs": [
    {
     "data": {
      "text/plain": [
       "768"
      ]
     },
     "execution_count": 23,
     "metadata": {},
     "output_type": "execute_result"
    }
   ],
   "source": [
    "n = len(df)\n",
    "n"
   ]
  },
  {
   "cell_type": "code",
   "execution_count": 15,
   "id": "e29599cc-893e-4675-b0f7-6abfc5bac760",
   "metadata": {},
   "outputs": [
    {
     "data": {
      "text/plain": [
       "255.208659"
      ]
     },
     "execution_count": 15,
     "metadata": {},
     "output_type": "execute_result"
    }
   ],
   "source": [
    "#Ex2\n",
    "a = (df[\"DiabetesPedigreeFunction\"]**2).sum()\n",
    "a"
   ]
  },
  {
   "cell_type": "code",
   "execution_count": 17,
   "id": "a45de4a3-f065-4c7d-933d-abce5a50291e",
   "metadata": {},
   "outputs": [
    {
     "data": {
      "text/plain": [
       "131334.48480099996"
      ]
     },
     "execution_count": 17,
     "metadata": {},
     "output_type": "execute_result"
    }
   ],
   "source": [
    "#(Ex)2\n",
    "b  = (df[\"DiabetesPedigreeFunction\"].sum())**2\n",
    "b"
   ]
  },
  {
   "cell_type": "code",
   "execution_count": 25,
   "id": "a71ea981-7243-4c02-b539-cb944b978540",
   "metadata": {},
   "outputs": [
    {
     "data": {
      "text/plain": [
       "4162670.554000005"
      ]
     },
     "execution_count": 25,
     "metadata": {},
     "output_type": "execute_result"
    }
   ],
   "source": [
    "#upper\n",
    "u = n*xy - x*y\n",
    "u"
   ]
  },
  {
   "cell_type": "code",
   "execution_count": 27,
   "id": "6a1262d7-9f0e-4359-9bf0-348e3061a7d3",
   "metadata": {},
   "outputs": [
    {
     "data": {
      "text/plain": [
       "100733549.84236696"
      ]
     },
     "execution_count": 27,
     "metadata": {},
     "output_type": "execute_result"
    }
   ],
   "source": [
    "#lower\n",
    "l = n*b - b\n",
    "l"
   ]
  },
  {
   "cell_type": "code",
   "execution_count": 29,
   "id": "0654eeb6-cc8e-468f-8fca-71b8ac430c12",
   "metadata": {},
   "outputs": [
    {
     "data": {
      "text/plain": [
       "0.0413235765096531"
      ]
     },
     "execution_count": 29,
     "metadata": {},
     "output_type": "execute_result"
    }
   ],
   "source": [
    "#slope\n",
    "s = u/l\n",
    "s"
   ]
  },
  {
   "cell_type": "code",
   "execution_count": 35,
   "id": "77fc039b-289a-4b33-8466-6ee227ad2b7c",
   "metadata": {},
   "outputs": [
    {
     "data": {
      "text/plain": [
       "61285.98050038353"
      ]
     },
     "execution_count": 35,
     "metadata": {},
     "output_type": "execute_result"
    }
   ],
   "source": [
    "#intercept\n",
    "#upper\n",
    "u1 = y-s*x/n\n",
    "u1"
   ]
  },
  {
   "cell_type": "code",
   "execution_count": 41,
   "id": "32fd096b-bff2-41c4-9a61-627ca3598156",
   "metadata": {},
   "outputs": [
    {
     "data": {
      "text/plain": [
       "61300.956205834205"
      ]
     },
     "execution_count": 41,
     "metadata": {},
     "output_type": "execute_result"
    }
   ],
   "source": [
    "y = s*x+u1\n",
    "y"
   ]
  },
  {
   "cell_type": "code",
   "execution_count": null,
   "id": "db37b211-8ed2-4d2b-ab8d-1f7a488d3106",
   "metadata": {},
   "outputs": [],
   "source": []
  }
 ],
 "metadata": {
  "kernelspec": {
   "display_name": "Python 3 (ipykernel)",
   "language": "python",
   "name": "python3"
  },
  "language_info": {
   "codemirror_mode": {
    "name": "ipython",
    "version": 3
   },
   "file_extension": ".py",
   "mimetype": "text/x-python",
   "name": "python",
   "nbconvert_exporter": "python",
   "pygments_lexer": "ipython3",
   "version": "3.12.4"
  }
 },
 "nbformat": 4,
 "nbformat_minor": 5
}
